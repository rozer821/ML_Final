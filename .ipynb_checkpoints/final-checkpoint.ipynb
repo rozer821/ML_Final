{
 "cells": [
  {
   "cell_type": "code",
   "execution_count": 18,
   "metadata": {},
   "outputs": [],
   "source": [
    "import numpy as np\n",
    "import pandas as pd\n",
    "import os \n",
    "import sklearn\n",
    "import matplotlib.pyplot as plt\n",
    "from sklearn import  linear_model\n",
    "from sklearn.metrics import mean_squared_error, r2_score\n",
    "from sklearn.discriminant_analysis import LinearDiscriminantAnalysis\n",
    "from sklearn.model_selection import KFold\n",
    "from sklearn.model_selection import cross_val_score\n",
    "from fancyimpute import KNN, NuclearNormMinimization, SoftImpute, IterativeImputer, BiScaler"
   ]
  },
  {
   "cell_type": "code",
   "execution_count": 3,
   "metadata": {},
   "outputs": [],
   "source": [
    "df = pd.read_csv('qudditch_training.csv')"
   ]
  },
  {
   "cell_type": "code",
   "execution_count": 4,
   "metadata": {},
   "outputs": [
    {
     "data": {
      "text/plain": [
       "(101266, 48)"
      ]
     },
     "execution_count": 4,
     "metadata": {},
     "output_type": "execute_result"
    }
   ],
   "source": [
    "df.shape"
   ]
  },
  {
   "cell_type": "code",
   "execution_count": 5,
   "metadata": {},
   "outputs": [],
   "source": [
    "# Replace gender with integer male = 0 female = 1 \n",
    "s = df['gender']\n",
    "s.replace('Female',1,inplace=True)\n",
    "s.replace('Male',0,inplace=True)\n"
   ]
  },
  {
   "cell_type": "code",
   "execution_count": 6,
   "metadata": {},
   "outputs": [],
   "source": [
    "df = df[df.gender != 'Unknown/Invalid']\n",
    "df = df[df.house != '?']\n",
    "#drop the useless columns \n",
    "\n",
    "\n",
    "\n",
    "#     print(df[i])\n",
    "df['weight'].replace({'>200': 200, '[0-25)': 0,'[25-50)': 25,'[50-75)': 50,'[75-100)': 75,'[100-125)': 100,'[125-150)': 120,'[150-175)': 150,'[175-200)': 175,'?':np.NaN},inplace=True)\n",
    "\n"
   ]
  },
  {
   "cell_type": "markdown",
   "metadata": {},
   "source": [
    "#### since df['transylvanian_tackle']) only has two value and the 'steady' has only 2 rows. so we could remove it."
   ]
  },
  {
   "cell_type": "code",
   "execution_count": 7,
   "metadata": {},
   "outputs": [
    {
     "name": "stdout",
     "output_type": "stream",
     "text": [
      "Column Name:  double_eight_loop Uniques:  1\n",
      "Column Name:  finbourgh_flick Uniques:  1\n",
      "Column Name:  transylvanian_tackle Uniques:  1\n"
     ]
    }
   ],
   "source": [
    "# Finding columns with no information\n",
    "useless = []\n",
    "for i in df.columns:\n",
    "    l = len(df[i].unique())\n",
    "    if l<2:\n",
    "        useless.append(i)\n",
    "        print(\"Column Name: \",i,\"Uniques: \",l)\n",
    "df.drop(useless,axis=1,inplace=True)        "
   ]
  },
  {
   "cell_type": "code",
   "execution_count": 9,
   "metadata": {
    "scrolled": true
   },
   "outputs": [
    {
     "name": "stdout",
     "output_type": "stream",
     "text": [
      "Column Name:  power_play Uniques:  2\n",
      "['No' 'Steady']\n",
      "Column Name:  starfish_and_stick Uniques:  2\n",
      "['No' 'Steady']\n",
      "Column Name:  chelmondiston_charge Uniques:  2\n",
      "['No' 'Steady']\n",
      "Column Name:  plumpton_pass Uniques:  2\n",
      "['No' 'Steady']\n",
      "Column Name:  porskoff_ploy Uniques:  2\n",
      "['No' 'Steady']\n",
      "Column Name:  woollongong_shimmy Uniques:  2\n",
      "['No' 'Steady']\n",
      "Column Name:  change Uniques:  2\n",
      "['No' 'Ch']\n",
      "Column Name:  snitch_caught Uniques:  2\n",
      "['No' 'Yes']\n",
      "Column Name:  quidditch_league_player Uniques:  2\n",
      "['NO' 'YES']\n"
     ]
    }
   ],
   "source": [
    "bi = []\n",
    "for i in df.columns:\n",
    "    l = len(df[i].unique())\n",
    "    if l == 2:\n",
    "        bi.append(i)\n",
    "        print(\"Column Name: \",i,\"Uniques: \",l)\n",
    "        print(df[i].unique())\n",
    "\n",
    "#change all feature that only has two items into 0,1 which all no indicated by 0 and other indicated by 1 \n",
    "for i in bi:\n",
    "    df[i].replace(df[i].unique()[0],0,inplace=True)\n",
    "    df[i].replace(df[i].unique()[1],1,inplace=True)        \n",
    "\n"
   ]
  },
  {
   "cell_type": "code",
   "execution_count": 10,
   "metadata": {},
   "outputs": [
    {
     "data": {
      "text/plain": [
       "[('id_num', -0.008663130280845154),\n",
       " ('player_id', 0.008518181042934395),\n",
       " ('gender', nan),\n",
       " ('weight', -0.02560953316613464),\n",
       " ('foul_type_id', -0.011746223119824695),\n",
       " ('num_game_losses', -0.011482509382814463),\n",
       " ('starfish_and_stick', -0.0031532090628339695),\n",
       " ('chelmondiston_charge', -0.001957066408769401),\n",
       " ('plumpton_pass', -0.0012812077185507325),\n",
       " ('porskoff_ploy', -0.0011299014047218398),\n",
       " ('woollongong_shimmy', -0.001129901404721839),\n",
       " ('power_play', -0.0011299014047218363),\n",
       " ('penalty_id', 0.005173892502892625),\n",
       " ('age', 0.01674118745233656),\n",
       " ('num_games_satout', 0.018810928811069067),\n",
       " ('change', 0.01986573374580235),\n",
       " ('num_game_moves', 0.020528687676967753),\n",
       " ('snitch_caught', 0.02801700772280525),\n",
       " ('num_practice_sessions', 0.03944165223470479),\n",
       " ('game_duration', 0.04433395997197832),\n",
       " ('num_games_won', 0.049653484643935),\n",
       " ('game_move_id', 0.05053896966396047),\n",
       " ('num_games_injured', 0.061159644772269664),\n",
       " ('num_games_notpartof', 0.16547799643760738),\n",
       " ('quidditch_league_player', 1.0)]"
      ]
     },
     "execution_count": 10,
     "metadata": {},
     "output_type": "execute_result"
    }
   ],
   "source": [
    "#analysis of correlation of all numerical featrue \n",
    "cor = {}\n",
    "for name in df.columns:\n",
    "    if df[name].dtype == 'int64' or df[name].dtype == 'float64':\n",
    "        corr = df[name].corr(df['quidditch_league_player'])\n",
    "    else:\n",
    "        continue\n",
    "    cor[name] = corr\n",
    "sor = sorted(cor.items(),key=lambda x:x[1])\n",
    "#may find that some of id don't have much correlation with label\n",
    "sor"
   ]
  },
  {
   "cell_type": "code",
   "execution_count": 11,
   "metadata": {},
   "outputs": [],
   "source": [
    "cat = []\n",
    "for i in df.columns:\n",
    "    l = len(df[i].unique())\n",
    "    if l >= 2:\n",
    "        cat.append(i)\n",
    "#         print(\"Column Name: \",i,\"Uniques: \",l)\n",
    "#         print(df[i].unique())\n",
    "cat.remove('id_num')\n",
    "cat.remove('player_id')\n",
    "cat.remove('weight')\n",
    "cat.remove('player_code')\n",
    "cat.remove('move_specialty')\n",
    "# cat.remove('weight')\n",
    "# cat.remove('player_code')\n",
    "# cat.remove('move_specialty')\n",
    "\n",
    "dummie = pd.get_dummies(df[cat])\n"
   ]
  },
  {
   "cell_type": "code",
   "execution_count": 12,
   "metadata": {},
   "outputs": [],
   "source": [
    "wei = df['weight']\n",
    "player = df['player_code']\n",
    "temp_weight = pd.concat([dummie,wei],axis=1)\n",
    "temp_play = pd.concat([dummie,player],axis=1)\n",
    "temp_play.replace('?',np.NaN,inplace=True)\n"
   ]
  },
  {
   "cell_type": "code",
   "execution_count": 30,
   "metadata": {},
   "outputs": [],
   "source": [
    "# X_filled_nnm = NuclearNormMinimization().fit_transform(temp_weight)\n",
    "weight_null = temp_weight.loc[temp_weight['weight'].isnull()]\n",
    "weigth_no_null = temp_weight.dropna()\n",
    "train_x = weigth_no_null.iloc[:,:-1]\n",
    "train_y = weigth_no_null.iloc[:,-1:]\n",
    "test_x = weight_null.iloc[:,:-1]"
   ]
  },
  {
   "cell_type": "code",
   "execution_count": null,
   "metadata": {},
   "outputs": [],
   "source": []
  },
  {
   "cell_type": "code",
   "execution_count": 31,
   "metadata": {},
   "outputs": [
    {
     "name": "stderr",
     "output_type": "stream",
     "text": [
      "/Users/nightmare/anaconda3/lib/python3.6/site-packages/sklearn/linear_model/base.py:485: RuntimeWarning: internal gelsd driver lwork query error, required iwork dimension not returned. This is likely the result of LAPACK bug 0038, fixed in LAPACK 3.2.2 (released July 21, 2010). Falling back to 'gelss' driver.\n",
      "  linalg.lstsq(X, y)\n"
     ]
    }
   ],
   "source": [
    "# Create linear regression object\n",
    "regr = linear_model.LinearRegression()\n",
    "# Train the model using the training sets\n",
    "regr.fit(train_x, train_y)\n",
    "# Make predictions using the testing set\n",
    "test_y = regr.predict(test_x)"
   ]
  },
  {
   "cell_type": "code",
   "execution_count": 40,
   "metadata": {
    "collapsed": true
   },
   "outputs": [
    {
     "name": "stdout",
     "output_type": "stream",
     "text": [
      "Coefficients: \n",
      " [[-6.14037917e+00 -1.07877440e+00 -6.94534301e-02 -2.07218434e-01\n",
      "  -2.85750651e-01 -6.68422998e-02  3.59418860e-01  1.44622371e-01\n",
      "   1.02540714e-01 -1.15505703e+00 -1.25202107e+00  1.81961002e+00\n",
      "  -2.84827013e-14  7.60271929e+00 -3.27384520e-14 -2.19714650e-14\n",
      "  -7.38809877e-16 -3.23172505e-15 -1.08841851e-01 -1.46013654e+00\n",
      "  -2.10002521e+00  8.54825436e+00  1.91635000e-15  2.36989688e-01\n",
      "  -1.65252710e+01  7.74002693e+00 -1.12246495e+01 -1.00172534e+00\n",
      "  -5.52812412e-01  1.25877826e+00  1.69880283e+00  1.53730580e+00\n",
      "   5.45526290e+00  2.74571995e+00  8.33175179e-02  2.25105545e-15\n",
      "   2.64193792e-15  3.65573183e-15  2.85799033e-15  3.05753049e+00\n",
      "  -2.86400632e+00 -2.81671476e+00  2.62319059e+00  6.66881799e+00\n",
      "  -5.06630401e+00 -1.38461063e+00 -2.17903353e-01 -5.06425116e-15\n",
      "  -1.35521724e+00  2.20353923e+00 -8.48321982e-01  4.46318418e-15\n",
      "  -6.46220317e-01 -3.78750467e-01  1.02497078e+00 -4.11404138e-15\n",
      "  -1.46608556e+01  1.46608556e+01  6.20313447e-15 -8.40825463e+00\n",
      "   1.96694122e+00  8.63190053e+00 -2.19058712e+00 -1.12434405e+00\n",
      "   2.20662458e-01  7.09213698e-01  1.94467891e-01 -9.97278276e-01\n",
      "  -1.54653878e+00  6.21432431e-01  1.92238463e+00 -1.13054056e+01\n",
      "   2.00413457e+00  9.82454750e+00 -5.23276513e-01 -1.58659684e+01\n",
      "   1.46347972e+00  5.47278105e+00  8.92970764e+00  0.00000000e+00\n",
      "  -1.76282325e+00  4.97183342e+00 -3.20901017e+00  0.00000000e+00\n",
      "   0.00000000e+00  0.00000000e+00  0.00000000e+00  1.06669733e+00\n",
      "  -1.06669733e+00  0.00000000e+00  7.47684876e-01 -1.37895335e+00\n",
      "   2.41477989e-02  6.07120678e-01  0.00000000e+00  0.00000000e+00\n",
      "   0.00000000e+00  0.00000000e+00]]\n"
     ]
    },
    {
     "ename": "ValueError",
     "evalue": "Found input variables with inconsistent numbers of samples: [3044, 95958]",
     "output_type": "error",
     "traceback": [
      "\u001b[0;31m---------------------------------------------------------------------------\u001b[0m",
      "\u001b[0;31mValueError\u001b[0m                                Traceback (most recent call last)",
      "\u001b[0;32m<ipython-input-40-705bb9346a64>\u001b[0m in \u001b[0;36m<module>\u001b[0;34m\u001b[0m\n\u001b[1;32m      3\u001b[0m \u001b[0;31m# The mean squared error\u001b[0m\u001b[0;34m\u001b[0m\u001b[0;34m\u001b[0m\u001b[0m\n\u001b[1;32m      4\u001b[0m print(\"Mean squared error: %.2f\"\n\u001b[0;32m----> 5\u001b[0;31m       % mean_squared_error(train_y, test_y))\n\u001b[0m",
      "\u001b[0;32m~/anaconda3/lib/python3.6/site-packages/sklearn/metrics/regression.py\u001b[0m in \u001b[0;36mmean_squared_error\u001b[0;34m(y_true, y_pred, sample_weight, multioutput)\u001b[0m\n\u001b[1;32m    237\u001b[0m     \"\"\"\n\u001b[1;32m    238\u001b[0m     y_type, y_true, y_pred, multioutput = _check_reg_targets(\n\u001b[0;32m--> 239\u001b[0;31m         y_true, y_pred, multioutput)\n\u001b[0m\u001b[1;32m    240\u001b[0m     \u001b[0mcheck_consistent_length\u001b[0m\u001b[0;34m(\u001b[0m\u001b[0my_true\u001b[0m\u001b[0;34m,\u001b[0m \u001b[0my_pred\u001b[0m\u001b[0;34m,\u001b[0m \u001b[0msample_weight\u001b[0m\u001b[0;34m)\u001b[0m\u001b[0;34m\u001b[0m\u001b[0m\n\u001b[1;32m    241\u001b[0m     output_errors = np.average((y_true - y_pred) ** 2, axis=0,\n",
      "\u001b[0;32m~/anaconda3/lib/python3.6/site-packages/sklearn/metrics/regression.py\u001b[0m in \u001b[0;36m_check_reg_targets\u001b[0;34m(y_true, y_pred, multioutput)\u001b[0m\n\u001b[1;32m     73\u001b[0m \u001b[0;34m\u001b[0m\u001b[0m\n\u001b[1;32m     74\u001b[0m     \"\"\"\n\u001b[0;32m---> 75\u001b[0;31m     \u001b[0mcheck_consistent_length\u001b[0m\u001b[0;34m(\u001b[0m\u001b[0my_true\u001b[0m\u001b[0;34m,\u001b[0m \u001b[0my_pred\u001b[0m\u001b[0;34m)\u001b[0m\u001b[0;34m\u001b[0m\u001b[0m\n\u001b[0m\u001b[1;32m     76\u001b[0m     \u001b[0my_true\u001b[0m \u001b[0;34m=\u001b[0m \u001b[0mcheck_array\u001b[0m\u001b[0;34m(\u001b[0m\u001b[0my_true\u001b[0m\u001b[0;34m,\u001b[0m \u001b[0mensure_2d\u001b[0m\u001b[0;34m=\u001b[0m\u001b[0;32mFalse\u001b[0m\u001b[0;34m)\u001b[0m\u001b[0;34m\u001b[0m\u001b[0m\n\u001b[1;32m     77\u001b[0m     \u001b[0my_pred\u001b[0m \u001b[0;34m=\u001b[0m \u001b[0mcheck_array\u001b[0m\u001b[0;34m(\u001b[0m\u001b[0my_pred\u001b[0m\u001b[0;34m,\u001b[0m \u001b[0mensure_2d\u001b[0m\u001b[0;34m=\u001b[0m\u001b[0;32mFalse\u001b[0m\u001b[0;34m)\u001b[0m\u001b[0;34m\u001b[0m\u001b[0m\n",
      "\u001b[0;32m~/anaconda3/lib/python3.6/site-packages/sklearn/utils/validation.py\u001b[0m in \u001b[0;36mcheck_consistent_length\u001b[0;34m(*arrays)\u001b[0m\n\u001b[1;32m    233\u001b[0m     \u001b[0;32mif\u001b[0m \u001b[0mlen\u001b[0m\u001b[0;34m(\u001b[0m\u001b[0muniques\u001b[0m\u001b[0;34m)\u001b[0m \u001b[0;34m>\u001b[0m \u001b[0;36m1\u001b[0m\u001b[0;34m:\u001b[0m\u001b[0;34m\u001b[0m\u001b[0m\n\u001b[1;32m    234\u001b[0m         raise ValueError(\"Found input variables with inconsistent numbers of\"\n\u001b[0;32m--> 235\u001b[0;31m                          \" samples: %r\" % [int(l) for l in lengths])\n\u001b[0m\u001b[1;32m    236\u001b[0m \u001b[0;34m\u001b[0m\u001b[0m\n\u001b[1;32m    237\u001b[0m \u001b[0;34m\u001b[0m\u001b[0m\n",
      "\u001b[0;31mValueError\u001b[0m: Found input variables with inconsistent numbers of samples: [3044, 95958]"
     ]
    }
   ],
   "source": [
    "# The coefficients\n",
    "print('Coefficients: \\n', regr.coef_)\n"
   ]
  },
  {
   "cell_type": "code",
   "execution_count": 44,
   "metadata": {},
   "outputs": [],
   "source": [
    "df_test_y = pd.DataFrame(test_y)\n"
   ]
  },
  {
   "cell_type": "code",
   "execution_count": null,
   "metadata": {},
   "outputs": [],
   "source": [
    "no_ques = df.loc[df['weight'] != '?']"
   ]
  },
  {
   "cell_type": "code",
   "execution_count": null,
   "metadata": {},
   "outputs": [],
   "source": [
    "no_ques['weight'] = pd.to_numeric(no_ques['weight'])"
   ]
  },
  {
   "cell_type": "code",
   "execution_count": null,
   "metadata": {},
   "outputs": [],
   "source": [
    "cor_weight = {}\n",
    "\n",
    "for name in no_ques.columns:\n",
    "    if no_ques[name].dtype == 'int64' or no_ques[name].dtype == 'float64':\n",
    "        corr = no_ques[name].corr(no_ques['weight'])\n",
    "    else:\n",
    "        continue\n",
    "    cor_weight[name] = corr\n",
    "sor_weight = sorted(cor_weight.items(),key=lambda x:x[1])\n",
    "sor_weight"
   ]
  },
  {
   "cell_type": "code",
   "execution_count": null,
   "metadata": {},
   "outputs": [],
   "source": [
    "no_ques.replace('?',np.NaN,inplace=True)"
   ]
  },
  {
   "cell_type": "code",
   "execution_count": null,
   "metadata": {},
   "outputs": [],
   "source": [
    "df.groupby(['starfish_and_stick','quidditch_league_player']).size()"
   ]
  },
  {
   "cell_type": "code",
   "execution_count": null,
   "metadata": {},
   "outputs": [],
   "source": []
  }
 ],
 "metadata": {
  "kernelspec": {
   "display_name": "Python 3",
   "language": "python",
   "name": "python3"
  }
 },
 "nbformat": 4,
 "nbformat_minor": 2
}
